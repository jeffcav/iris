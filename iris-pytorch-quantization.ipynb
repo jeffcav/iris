{
 "cells": [
  {
   "cell_type": "markdown",
   "metadata": {},
   "source": [
    "# Iris classifier\n",
    "## Imports"
   ]
  },
  {
   "cell_type": "code",
   "execution_count": 1,
   "metadata": {},
   "outputs": [
    {
     "data": {
      "text/plain": [
       "<torch._C.Generator at 0x7f310813e590>"
      ]
     },
     "execution_count": 1,
     "metadata": {},
     "output_type": "execute_result"
    }
   ],
   "source": [
    "import copy\n",
    "import torch\n",
    "import numpy as np\n",
    "\n",
    "from sklearn.model_selection import train_test_split\n",
    "\n",
    "np.random.seed(99)\n",
    "torch.manual_seed(99)"
   ]
  },
  {
   "cell_type": "markdown",
   "metadata": {},
   "source": [
    "## Pre-processing"
   ]
  },
  {
   "cell_type": "code",
   "execution_count": 2,
   "metadata": {},
   "outputs": [],
   "source": [
    "def iris_to_id(name: str):\n",
    "    if name == b'Iris-setosa':\n",
    "        return 0.\n",
    "    elif name == b'Iris-versicolor':\n",
    "        return 1.\n",
    "    elif name == b'Iris-virginica':\n",
    "        return 2.\n",
    "    raise Exception(f\"Unknown iris {name}\")\n",
    "\n",
    "data = np.loadtxt(\"iris.csv\", delimiter=',', converters={4: iris_to_id})"
   ]
  },
  {
   "cell_type": "code",
   "execution_count": 3,
   "metadata": {},
   "outputs": [],
   "source": [
    "X = data[:,:4]\n",
    "y = data[:,4].astype(np.int32)"
   ]
  },
  {
   "cell_type": "code",
   "execution_count": 4,
   "metadata": {},
   "outputs": [],
   "source": [
    "X_train, X_test, y_train, y_test = train_test_split(X, y, test_size=0.2, random_state=42, shuffle=True, stratify=y)"
   ]
  },
  {
   "cell_type": "markdown",
   "metadata": {},
   "source": [
    "## Neural Network creation"
   ]
  },
  {
   "cell_type": "code",
   "execution_count": 5,
   "metadata": {},
   "outputs": [],
   "source": [
    "class MLP(torch.nn.Module):\n",
    "  def __init__(self, input_size, hidden_size, output_size):\n",
    "    super().__init__()\n",
    "    self.layers = torch.nn.Sequential(\n",
    "      torch.nn.Linear(input_size, hidden_size, bias=True),\n",
    "      torch.nn.ReLU(),\n",
    "      torch.nn.Linear(hidden_size, output_size, bias=True),\n",
    "    )\n",
    "\n",
    "  def forward(self, x):\n",
    "    return self.layers(x)"
   ]
  },
  {
   "cell_type": "code",
   "execution_count": 6,
   "metadata": {},
   "outputs": [],
   "source": [
    "def train(model, device, train_loader, optimizer, loss_fn=torch.nn.functional.cross_entropy):\n",
    "    model.train()\n",
    "\n",
    "    epoch_loss = 0\n",
    "    n_samples = 0\n",
    "\n",
    "    for _, (data, target) in enumerate(train_loader):\n",
    "        # prepare\n",
    "        data, target = data.to(device), target.to(device)\n",
    "        optimizer.zero_grad()\n",
    "\n",
    "        # compute\n",
    "        output = model(data)\n",
    "        loss = loss_fn(output, target)\n",
    "\n",
    "        # record\n",
    "        epoch_loss += loss.item()\n",
    "        n_samples += output.size(0)\n",
    "\n",
    "        # adjust\n",
    "        loss.backward()\n",
    "        optimizer.step()\n",
    "\n",
    "    return epoch_loss, n_samples"
   ]
  },
  {
   "cell_type": "code",
   "execution_count": 7,
   "metadata": {},
   "outputs": [],
   "source": [
    "def test(model, device, test_loader):\n",
    "    with torch.no_grad():\n",
    "        model.train(False)\n",
    "        num_correct = 0\n",
    "        num_samples = 0\n",
    "\n",
    "        for _, (x, y) in enumerate(test_loader):\n",
    "            x = x.to(device)\n",
    "            y = y.to(device)\n",
    "\n",
    "            scores = model.forward(x)\n",
    "            _, y_out = scores.max(1)\n",
    "            \n",
    "            num_correct += (y_out == y).sum()\n",
    "            num_samples += y_out.size(0)\n",
    "        \n",
    "        acc = float(num_correct) / float(num_samples)\n",
    "    return acc"
   ]
  },
  {
   "cell_type": "code",
   "execution_count": 8,
   "metadata": {},
   "outputs": [],
   "source": [
    "model = MLP(4, 5, 3)\n",
    "optimizer = torch.optim.Adam(model.parameters(), lr=1e-2, weight_decay=0.0001)"
   ]
  },
  {
   "cell_type": "markdown",
   "metadata": {},
   "source": [
    "## Training"
   ]
  },
  {
   "cell_type": "code",
   "execution_count": 9,
   "metadata": {},
   "outputs": [],
   "source": [
    "device = torch.device('cpu')\n",
    "\n",
    "train_dataset = torch.utils.data.TensorDataset(torch.Tensor(X_train), torch.LongTensor(y_train))\n",
    "test_dataset = torch.utils.data.TensorDataset(torch.Tensor(X_test), torch.LongTensor(y_test))"
   ]
  },
  {
   "cell_type": "code",
   "execution_count": 10,
   "metadata": {},
   "outputs": [],
   "source": [
    "for epoch in range(50):\n",
    "    train_data = torch.utils.data.DataLoader(train_dataset, batch_size=64, shuffle=True)\n",
    "    error, num_samples = train(model, device, train_data, optimizer)"
   ]
  },
  {
   "cell_type": "code",
   "execution_count": 11,
   "metadata": {},
   "outputs": [
    {
     "name": "stdout",
     "output_type": "stream",
     "text": [
      "Test accuracy: 100.00\n"
     ]
    }
   ],
   "source": [
    "test_data = torch.utils.data.DataLoader(test_dataset, batch_size=len(test_dataset))\n",
    "acc = test(model, device, test_data)\n",
    "print(f\"Test accuracy: {acc * 100:.2f}\")"
   ]
  },
  {
   "cell_type": "markdown",
   "metadata": {},
   "source": [
    "## Pytorch quantization\n",
    "### Prepare"
   ]
  },
  {
   "cell_type": "code",
   "execution_count": 12,
   "metadata": {},
   "outputs": [],
   "source": [
    "qmodel_float = copy.deepcopy(model.layers)\n",
    "qmodel_float.eval()\n",
    "\n",
    "# fuse layers (weights+activation)\n",
    "torch.quantization.fuse_modules(qmodel_float, [['0', '1']], inplace=True)\n",
    "\n",
    "# add quantization of input and output\n",
    "qmodel_float = torch.nn.Sequential(\n",
    "    torch.quantization.QuantStub(),\n",
    "    *qmodel_float,\n",
    "    torch.quantization.DeQuantStub()\n",
    ")"
   ]
  },
  {
   "cell_type": "code",
   "execution_count": 13,
   "metadata": {},
   "outputs": [
    {
     "data": {
      "text/plain": [
       "QConfig(activation=functools.partial(<class 'torch.ao.quantization.observer.MinMaxObserver'>, quant_min=0, quant_max=127){}, weight=functools.partial(<class 'torch.ao.quantization.observer.MinMaxObserver'>, dtype=torch.qint8, qscheme=torch.per_tensor_symmetric){})"
      ]
     },
     "execution_count": 13,
     "metadata": {},
     "output_type": "execute_result"
    }
   ],
   "source": [
    "# configure quantization\n",
    "qmodel_float.qconfig = torch.quantization.default_qconfig\n",
    "qmodel_float=qmodel_float.to('cpu')\n",
    "qmodel_float.qconfig"
   ]
  },
  {
   "cell_type": "markdown",
   "metadata": {},
   "source": [
    "### Calibrate"
   ]
  },
  {
   "cell_type": "code",
   "execution_count": 14,
   "metadata": {},
   "outputs": [],
   "source": [
    "torch.quantization.prepare(qmodel_float, inplace=True)\n",
    "with torch.inference_mode():\n",
    "    for batch_idx, (x, y) in enumerate(test_data):\n",
    "        x,y = x.to('cpu'), y.to('cpu')\n",
    "        qmodel_float(x)"
   ]
  },
  {
   "cell_type": "markdown",
   "metadata": {},
   "source": [
    "### Quantize"
   ]
  },
  {
   "cell_type": "code",
   "execution_count": 15,
   "metadata": {},
   "outputs": [],
   "source": [
    "qmodel = torch.quantization.convert(qmodel_float, inplace=False)"
   ]
  },
  {
   "cell_type": "markdown",
   "metadata": {},
   "source": [
    "### Test quantization"
   ]
  },
  {
   "cell_type": "code",
   "execution_count": 16,
   "metadata": {},
   "outputs": [
    {
     "name": "stdout",
     "output_type": "stream",
     "text": [
      "Test accuracy: 100.00\n"
     ]
    }
   ],
   "source": [
    "# measure accuracy of the quantized model\n",
    "acc = test(qmodel, 'cpu', test_data)\n",
    "print(f\"Test accuracy: {acc * 100:.2f}\")"
   ]
  },
  {
   "cell_type": "markdown",
   "metadata": {},
   "source": [
    "### Quantization parameters"
   ]
  },
  {
   "cell_type": "code",
   "execution_count": 17,
   "metadata": {},
   "outputs": [
    {
     "name": "stdout",
     "output_type": "stream",
     "text": [
      "OrderedDict([('0.scale', tensor([0.0575])), ('0.zero_point', tensor([0])), ('1.scale', tensor(0.0490)), ('1.zero_point', tensor(0)), ('1._packed_params.dtype', torch.qint8), ('1._packed_params._packed_params', (tensor([[-0.4044,  0.1881,  1.0064,  1.1945],\n",
      "        [-0.1599,  0.2916, -0.3574, -0.0188],\n",
      "        [ 0.1787, -0.4985,  1.0064,  0.4420],\n",
      "        [ 0.0752,  0.8371,  0.2257, -0.5267],\n",
      "        [ 0.1975,  0.9687, -0.2351, -0.4797]], size=(5, 4), dtype=torch.qint8,\n",
      "       quantization_scheme=torch.per_tensor_affine, scale=0.009405267424881458,\n",
      "       zero_point=0), Parameter containing:\n",
      "tensor([-0.7880, -0.2775, -0.7720,  1.0623,  0.4106], requires_grad=True))), ('3.scale', tensor(0.0932)), ('3.zero_point', tensor(60)), ('3._packed_params.dtype', torch.qint8), ('3._packed_params._packed_params', (tensor([[-0.7590,  0.0143, -0.9166,  0.5012,  0.7017],\n",
      "        [-0.2220, -0.0072,  0.0931,  0.5012, -0.1719],\n",
      "        [ 0.8163,  0.0215,  0.4153, -0.5943, -0.3580]], size=(3, 5),\n",
      "       dtype=torch.qint8, quantization_scheme=torch.per_tensor_affine,\n",
      "       scale=0.007160598412156105, zero_point=0), Parameter containing:\n",
      "tensor([ 0.1456,  0.4571, -0.1649], requires_grad=True)))])\n"
     ]
    }
   ],
   "source": [
    "print(qmodel.state_dict())"
   ]
  },
  {
   "cell_type": "code",
   "execution_count": 18,
   "metadata": {},
   "outputs": [
    {
     "name": "stdout",
     "output_type": "stream",
     "text": [
      "0.activation_post_process.eps tensor([1.1921e-07])\n",
      "0.activation_post_process.min_val tensor(0.2000)\n",
      "0.activation_post_process.max_val tensor(7.3000)\n",
      "1.0.weight tensor([[-0.4075,  0.1847,  1.0024,  1.1992],\n",
      "        [-0.1568,  0.2883, -0.3592, -0.0158],\n",
      "        [ 0.1752, -0.4949,  1.0089,  0.4388],\n",
      "        [ 0.0726,  0.8408,  0.2250, -0.5250],\n",
      "        [ 0.2008,  0.9642, -0.2306, -0.4840]])\n",
      "1.0.bias tensor([-0.7880, -0.2775, -0.7720,  1.0623,  0.4106])\n",
      "1.activation_post_process.eps tensor([1.1921e-07])\n",
      "1.activation_post_process.min_val tensor(0.)\n",
      "1.activation_post_process.max_val tensor(6.2179)\n",
      "3.weight tensor([[-0.7603,  0.0155, -0.9130,  0.5034,  0.6988],\n",
      "        [-0.2238, -0.0065,  0.0930,  0.5039, -0.1733],\n",
      "        [ 0.8156,  0.0249,  0.4146, -0.5934, -0.3573]])\n",
      "3.bias tensor([ 0.1456,  0.4571, -0.1649])\n",
      "3.activation_post_process.eps tensor([1.1921e-07])\n",
      "3.activation_post_process.min_val tensor(-5.6331)\n",
      "3.activation_post_process.max_val tensor(6.2031)\n"
     ]
    }
   ],
   "source": [
    "pre_quantized_params = qmodel_float.state_dict()\n",
    "for k in pre_quantized_params:\n",
    "    print(k, pre_quantized_params[k])"
   ]
  }
 ],
 "metadata": {
  "kernelspec": {
   "display_name": "venv",
   "language": "python",
   "name": "python3"
  },
  "language_info": {
   "codemirror_mode": {
    "name": "ipython",
    "version": 3
   },
   "file_extension": ".py",
   "mimetype": "text/x-python",
   "name": "python",
   "nbconvert_exporter": "python",
   "pygments_lexer": "ipython3",
   "version": "3.10.7"
  },
  "orig_nbformat": 4
 },
 "nbformat": 4,
 "nbformat_minor": 2
}
