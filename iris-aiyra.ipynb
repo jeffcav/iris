{
 "cells": [
  {
   "cell_type": "markdown",
   "metadata": {},
   "source": [
    "# Implementing an Iris classifier"
   ]
  },
  {
   "cell_type": "markdown",
   "metadata": {},
   "source": [
    "### Imports"
   ]
  },
  {
   "cell_type": "code",
   "execution_count": null,
   "metadata": {},
   "outputs": [],
   "source": [
    "import os\n",
    "import pickle\n",
    "import shutil\n",
    "import numpy as np\n",
    "import tensorflow as tf\n",
    "from sklearn.model_selection import train_test_split\n",
    "\n",
    "np.random.seed(99)"
   ]
  },
  {
   "cell_type": "markdown",
   "metadata": {},
   "source": [
    "## Model development"
   ]
  },
  {
   "cell_type": "markdown",
   "metadata": {},
   "source": [
    "### Load dataset"
   ]
  },
  {
   "cell_type": "code",
   "execution_count": null,
   "metadata": {},
   "outputs": [],
   "source": [
    "def iris_to_id(name: str):\n",
    "    if name == b'Iris-setosa':\n",
    "        return 0.\n",
    "    elif name == b'Iris-versicolor':\n",
    "        return 1.\n",
    "    elif name == b'Iris-virginica':\n",
    "        return 2.\n",
    "    raise Exception(f\"Unknown iris {name}\")\n",
    "\n",
    "data = np.loadtxt(\"iris.csv\", delimiter=',', converters={4: iris_to_id})\n",
    "\n",
    "X = data[:,:4]\n",
    "y = data[:,4].astype(np.int32)\n",
    "\n",
    "X_train, X_test, y_train, y_test = train_test_split(X, y, test_size=0.2, random_state=42, shuffle=True, stratify=y)\n",
    "\n",
    "# Convert labels to one-hot encoding\n",
    "y_train = tf.keras.utils.to_categorical(y_train, num_classes = 3)\n",
    "y_test = tf.keras.utils.to_categorical(y_test, num_classes = 3)"
   ]
  },
  {
   "cell_type": "markdown",
   "metadata": {},
   "source": [
    "### Train model"
   ]
  },
  {
   "cell_type": "code",
   "execution_count": null,
   "metadata": {},
   "outputs": [],
   "source": [
    "def create_model() -> tf.keras.Model:\n",
    "    model = tf.keras.Sequential()\n",
    "\n",
    "    model.add(tf.keras.layers.Dense(5, activation='relu', input_shape=(4, )))\n",
    "    model.add(tf.keras.layers.Dense(3, activation='softmax'))\n",
    "\n",
    "    optimizer = tf.keras.optimizers.Adam(learning_rate=0.02, weight_decay=1e-6)\n",
    "    model.compile(optimizer=optimizer, loss='categorical_crossentropy', metrics=['accuracy'])\n",
    "\n",
    "    return model"
   ]
  },
  {
   "cell_type": "code",
   "execution_count": null,
   "metadata": {},
   "outputs": [],
   "source": [
    "def train_model(x_values, y_values, epochs=50):\n",
    "    model = create_model()\n",
    "    model.fit(x_values, y_values, epochs=epochs, validation_split=0.2, batch_size=32, verbose=0)\n",
    "\n",
    "    return model"
   ]
  },
  {
   "cell_type": "code",
   "execution_count": null,
   "metadata": {},
   "outputs": [],
   "source": [
    "trained_model = train_model(X_train, y_train)"
   ]
  },
  {
   "cell_type": "markdown",
   "metadata": {},
   "source": [
    "### Evaluate model"
   ]
  },
  {
   "cell_type": "code",
   "execution_count": null,
   "metadata": {},
   "outputs": [],
   "source": [
    "score = trained_model.evaluate(X_test, y_test, verbose = 0)\n",
    "print('Test accuracy:', score[1])"
   ]
  },
  {
   "cell_type": "markdown",
   "metadata": {},
   "source": [
    "## Store model for AIYRA"
   ]
  },
  {
   "cell_type": "code",
   "execution_count": null,
   "metadata": {},
   "outputs": [],
   "source": [
    "# constants\n",
    "MODEL_DIR = \"model\"\n",
    "ZIP_FILENAME = \"model\"\n",
    "\n",
    "os.mkdir(MODEL_DIR)"
   ]
  },
  {
   "cell_type": "code",
   "execution_count": null,
   "metadata": {},
   "outputs": [],
   "source": [
    "# save model in a folder\n",
    "trained_model.save(MODEL_DIR, save_format=\"tf\")\n",
    "\n",
    "# save train data for model calibration\n",
    "with open(os.path.join(MODEL_DIR, 'calibration.pkl'), 'wb') as file:\n",
    "    pickle.dump(X_train, file)\n",
    "\n",
    "# zip model folder\n",
    "shutil.make_archive(ZIP_FILENAME, 'zip', MODEL_DIR)"
   ]
  },
  {
   "cell_type": "markdown",
   "metadata": {},
   "source": [
    "## Drafts"
   ]
  },
  {
   "cell_type": "markdown",
   "metadata": {},
   "source": [
    "### Evaluate on a single input"
   ]
  },
  {
   "cell_type": "code",
   "execution_count": null,
   "metadata": {},
   "outputs": [],
   "source": [
    "xi = np.array([3.0, 4.0, 1.0, 1.0]).reshape(1, -1)\n",
    "yi = np.array([0.636719, 0.296875, 0.070312]).reshape(1, -1)\n",
    "\n",
    "yi_predicted = trained_model.predict(xi)\n",
    "\n",
    "print(\"expected:\", yi, \"\\npredicted:\", yi_predicted)\n",
    "\n",
    "score = trained_model.evaluate(xi, yi, verbose=0)\n",
    "print(\"accuracy: \", score[1])"
   ]
  }
 ],
 "metadata": {
  "kernelspec": {
   "display_name": "venv",
   "language": "python",
   "name": "python3"
  },
  "language_info": {
   "codemirror_mode": {
    "name": "ipython",
    "version": 3
   },
   "file_extension": ".py",
   "mimetype": "text/x-python",
   "name": "python",
   "nbconvert_exporter": "python",
   "pygments_lexer": "ipython3",
   "version": "3.10.7"
  },
  "orig_nbformat": 4
 },
 "nbformat": 4,
 "nbformat_minor": 2
}
